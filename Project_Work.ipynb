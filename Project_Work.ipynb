{
 "cells": [
  {
   "cell_type": "markdown",
   "id": "ad6e08be",
   "metadata": {},
   "source": [
    "## Libraries"
   ]
  },
  {
   "cell_type": "code",
   "execution_count": null,
   "id": "91340595",
   "metadata": {},
   "outputs": [],
   "source": [
    "import csv\n",
    "import pandas as pd\n",
    "from pymongo import MongoClient\n",
    "import matplotlib.pyplot as plt\n",
    "from pyspark.sql import SparkSession\n",
    "from pyspark.sql import functions as F\n",
    "from pyspark.sql.functions import avg"
   ]
  },
  {
   "cell_type": "markdown",
   "id": "86e64b2b",
   "metadata": {},
   "source": [
    "## Inserting Trimmed Data into MongoDB"
   ]
  },
  {
   "cell_type": "code",
   "execution_count": 25,
   "id": "183d701c",
   "metadata": {},
   "outputs": [
    {
     "name": "stdout",
     "output_type": "stream",
     "text": [
      "✅ Inserted 1000 rows of data\n"
     ]
    }
   ],
   "source": [
    "# Connect to MongoDB\n",
    "client = MongoClient(\"mongodb://localhost:27017/\")\n",
    "db = client[\"Project\"]\n",
    "\n",
    "# === Trim and load only first 1000 rows of Bike data ===\n",
    "with open(\"project_file.csv\", \"r\", encoding=\"utf-8\") as f:\n",
    "    reader = csv.DictReader(f) \n",
    "    BikeData = [row for _, row in zip(range(1000), reader)]\n",
    "db[\"Project\"].insert_many(BikeData)\n",
    "print(f\"✅ Inserted {len(BikeData)} rows of data\")\n"
   ]
  },
  {
   "cell_type": "markdown",
   "id": "e665b7cc",
   "metadata": {},
   "source": [
    "## Starting Spark Session"
   ]
  },
  {
   "cell_type": "code",
   "execution_count": 26,
   "id": "3f5bad40",
   "metadata": {},
   "outputs": [],
   "source": [
    "spark = SparkSession.builder.appName(\"Bike Data Analysis\").getOrCreate()"
   ]
  },
  {
   "cell_type": "markdown",
   "id": "e8e0865c",
   "metadata": {},
   "source": [
    "## Loading data from MongoDB via PyMongo"
   ]
  },
  {
   "cell_type": "code",
   "execution_count": 27,
   "id": "3250c630",
   "metadata": {},
   "outputs": [
    {
     "name": "stdout",
     "output_type": "stream",
     "text": [
      "+--------------------+--------------------+----------------------+---------------+-------------------+-----------------+-------------------+-------------------+\n",
      "|Covered distance (m)|Departure station id|Departure station name|Duration (sec.)|             Return|Return station id|Return station name|         ﻿Departure|\n",
      "+--------------------+--------------------+----------------------+---------------+-------------------+-----------------+-------------------+-------------------+\n",
      "|                1885|                 016|       Liisanpuistikko|            499|2021-05-01T00:08:15|              002|    Laivasillankatu|2021-04-30T23:59:54|\n",
      "|                3359|                 020|     Kaisaniemenpuisto|            984|2021-05-01T00:16:16|              112| Rautatieläisenkatu|2021-04-30T23:59:52|\n",
      "|                1633|                 004|             Viiskulma|            824|2021-05-01T00:13:40|              033|  Kauppakorkeakoulu|2021-04-30T23:59:52|\n",
      "|                6459|                 133|        Paavalinpuisto|           1418|2021-05-01T00:23:22|              241|      Agronominkatu|2021-04-30T23:59:43|\n",
      "|                3210|                 020|     Kaisaniemenpuisto|            990|2021-05-01T00:16:15|              112| Rautatieläisenkatu|2021-04-30T23:59:41|\n",
      "|                2502|                 573|     Urheilupuisto (M)|            630|2021-05-01T00:10:02|              527|          Otsolahti|2021-04-30T23:59:32|\n",
      "|                3681|                 123|            Näkinsilta|            936|2021-05-01T00:15:06|              135|    Velodrominrinne|2021-04-30T23:59:29|\n",
      "|                1819|                 161|        Eteläesplanadi|           1541|2021-05-01T00:25:07|              041|         Ympyrätalo|2021-04-30T23:59:22|\n",
      "|                3289|                 020|     Kaisaniemenpuisto|           1024|2021-05-01T00:16:26|              112| Rautatieläisenkatu|2021-04-30T23:59:17|\n",
      "|                  18|                 016|       Liisanpuistikko|            112|2021-05-01T00:00:57|              016|    Liisanpuistikko|2021-04-30T23:59:01|\n",
      "+--------------------+--------------------+----------------------+---------------+-------------------+-----------------+-------------------+-------------------+\n",
      "only showing top 10 rows\n",
      "\n"
     ]
    }
   ],
   "source": [
    "## Read documents, exclude '_id'\n",
    "BikeData_docs = list(db[\"Project\"].find({}, {\"_id\": 0}))\n",
    "\n",
    "# Convert to Spark DataFrames\n",
    "BikeData = spark.createDataFrame(BikeData_docs)\n",
    "\n",
    "BikeData.show(10 )"
   ]
  },
  {
   "cell_type": "code",
   "execution_count": 28,
   "id": "05472375",
   "metadata": {},
   "outputs": [
    {
     "name": "stdout",
     "output_type": "stream",
     "text": [
      "['Covered distance (m)', 'Departure station id', 'Departure station name', 'Duration (sec.)', 'Return', 'Return station id', 'Return station name', '\\ufeffDeparture']\n"
     ]
    }
   ],
   "source": [
    "print(BikeData.columns)"
   ]
  },
  {
   "cell_type": "code",
   "execution_count": 29,
   "id": "e4f233a4",
   "metadata": {},
   "outputs": [
    {
     "name": "stdout",
     "output_type": "stream",
     "text": [
      "root\n",
      " |-- Covered distance (m): string (nullable = true)\n",
      " |-- Departure station id: string (nullable = true)\n",
      " |-- Departure station name: string (nullable = true)\n",
      " |-- Duration (sec.): string (nullable = true)\n",
      " |-- Return: string (nullable = true)\n",
      " |-- Return station id: string (nullable = true)\n",
      " |-- Return station name: string (nullable = true)\n",
      " |-- ﻿Departure: string (nullable = true)\n",
      "\n"
     ]
    }
   ],
   "source": [
    "BikeData.printSchema()\n"
   ]
  },
  {
   "cell_type": "code",
   "execution_count": 30,
   "id": "d1e0f988",
   "metadata": {},
   "outputs": [],
   "source": [
    "# Rename the columns\n",
    "UpdatedBikeData = BikeData.withColumnRenamed(\"Covered distance (m)\", \"CoveredDistance_m\") \\\n",
    "                 .withColumnRenamed(\"Duration (sec.)\", \"Duration_sec\")\n"
   ]
  },
  {
   "cell_type": "code",
   "execution_count": 31,
   "id": "c728a122",
   "metadata": {},
   "outputs": [
    {
     "name": "stdout",
     "output_type": "stream",
     "text": [
      "root\n",
      " |-- CoveredDistance_m: string (nullable = true)\n",
      " |-- Departure station id: string (nullable = true)\n",
      " |-- Departure station name: string (nullable = true)\n",
      " |-- Duration_sec: string (nullable = true)\n",
      " |-- Return: string (nullable = true)\n",
      " |-- Return station id: string (nullable = true)\n",
      " |-- Return station name: string (nullable = true)\n",
      " |-- ﻿Departure: string (nullable = true)\n",
      "\n"
     ]
    }
   ],
   "source": [
    "UpdatedBikeData.printSchema()"
   ]
  },
  {
   "cell_type": "code",
   "execution_count": null,
   "id": "016ee48a",
   "metadata": {},
   "outputs": [],
   "source": [
    "from pyspark.sql.functions import col\n",
    "\n",
    "# Change datatype string → integer\n",
    "UpdatedBikeData = UpdatedBikeData.withColumn(\"CoveredDistance_m\", col(\"CoveredDistance_m\").cast(\"int\")) \\\n",
    "                 .withColumn(\"Duration_sec\", col(\"Duration_sec\").cast(\"int\"))\n"
   ]
  },
  {
   "cell_type": "code",
   "execution_count": 33,
   "id": "22b64317",
   "metadata": {},
   "outputs": [
    {
     "name": "stdout",
     "output_type": "stream",
     "text": [
      "root\n",
      " |-- CoveredDistance_m: integer (nullable = true)\n",
      " |-- Departure station id: string (nullable = true)\n",
      " |-- Departure station name: string (nullable = true)\n",
      " |-- Duration_sec: integer (nullable = true)\n",
      " |-- Return: string (nullable = true)\n",
      " |-- Return station id: string (nullable = true)\n",
      " |-- Return station name: string (nullable = true)\n",
      " |-- ﻿Departure: string (nullable = true)\n",
      "\n"
     ]
    }
   ],
   "source": [
    "UpdatedBikeData.printSchema()"
   ]
  },
  {
   "cell_type": "markdown",
   "id": "79625822",
   "metadata": {},
   "source": [
    "## Counting the Average Values for Distance and Duration"
   ]
  },
  {
   "cell_type": "code",
   "execution_count": null,
   "id": "943827f9",
   "metadata": {},
   "outputs": [
    {
     "name": "stdout",
     "output_type": "stream",
     "text": [
      "+-----------------------------+-----------------+----------------+\n",
      "|Departure station name       |avg_distance_m   |avg_duration_sec|\n",
      "+-----------------------------+-----------------+----------------+\n",
      "|Pitäjänmäen asema            |7911.0           |1324.0          |\n",
      "|Agronominkatu                |7274.0           |1596.0          |\n",
      "|Teljäntie                    |6890.666666666667|2436.0          |\n",
      "|Haagan tori                  |6836.0           |3671.0          |\n",
      "|Maarinranta                  |6040.0           |1551.0          |\n",
      "|Opastinsilta                 |6019.666666666667|2037.0          |\n",
      "|Herttoniemen kirkko          |5597.0           |1775.0          |\n",
      "|Aalto-yliopisto (M), Tietotie|5153.5           |1288.0          |\n",
      "|Maunula                      |5017.0           |1576.0          |\n",
      "|Luoteisväylä                 |4988.0           |1282.5          |\n",
      "+-----------------------------+-----------------+----------------+\n",
      "only showing top 10 rows\n",
      "\n"
     ]
    }
   ],
   "source": [
    "data_selected = UpdatedBikeData.select(\n",
    "    \"CoveredDistance_m\",\n",
    "    \"Departure station name\",\n",
    "    \"Duration_sec\"\n",
    ")\n",
    "\n",
    "# Calculating averages\n",
    "df_avg = data_selected.groupBy(\n",
    "    \"Departure station name\"\n",
    ").agg(\n",
    "    avg(\"CoveredDistance_m\").alias(\"avg_distance_m\"),\n",
    "    avg(\"Duration_sec\").alias(\"avg_duration_sec\")\n",
    ").orderBy(\"avg_distance_m\", ascending=False)\n",
    "\n",
    "# Show 10 longest distance departure stations\n",
    "df_avg.show(10, truncate=False)\n"
   ]
  },
  {
   "cell_type": "markdown",
   "id": "34aa1d86",
   "metadata": {},
   "source": [
    "## Changing Average Duration from Seconds to Minutes and Rounding the Results"
   ]
  },
  {
   "cell_type": "code",
   "execution_count": null,
   "id": "e2f86f70",
   "metadata": {},
   "outputs": [],
   "source": [
    "from pyspark.sql.functions import round, col\n",
    "from pyspark.sql.types import IntegerType\n",
    "\n",
    "#Changing \"avg_duration_sec\" -> \"avg_duration_min\", and rounding to 2 decimals\n",
    "df_avg = df_avg.withColumn(\"avg_duration_min\", round(col(\"avg_duration_sec\") / 60, 2)) \\\n",
    "               .drop(\"avg_duration_sec\")\n",
    "\n",
    "#Rounding average distance to 2 decimals\n",
    "df_avg = df_avg.withColumn(\"avg_distance_m\", round(col(\"avg_distance_m\"), 2))"
   ]
  },
  {
   "cell_type": "code",
   "execution_count": 54,
   "id": "aaaa0dae",
   "metadata": {},
   "outputs": [
    {
     "name": "stdout",
     "output_type": "stream",
     "text": [
      "+----------------------+--------------+----------------+\n",
      "|Departure station name|avg_distance_m|avg_duration_min|\n",
      "+----------------------+--------------+----------------+\n",
      "|Marian sairaala       |1519.0        |147.3           |\n",
      "|Haagan tori           |6836.0        |61.18           |\n",
      "|Teljäntie             |6890.67       |40.6            |\n",
      "|Opastinsilta          |6019.67       |33.95           |\n",
      "|Laajalahden keskus    |3657.0        |30.03           |\n",
      "|Herttoniemen kirkko   |5597.0        |29.58           |\n",
      "|Thalianaukio          |2142.0        |27.93           |\n",
      "|Viiskulma             |2189.0        |27.19           |\n",
      "|Agronominkatu         |7274.0        |26.6            |\n",
      "|Liisanpuistikko       |1258.72       |26.39           |\n",
      "+----------------------+--------------+----------------+\n",
      "only showing top 10 rows\n",
      "\n"
     ]
    }
   ],
   "source": [
    "df_avg.orderBy(\"avg_duration_min\", ascending=False).show(10, truncate=False)"
   ]
  },
  {
   "cell_type": "markdown",
   "id": "a7be6013",
   "metadata": {},
   "source": [
    "## Counting the visit number for departure stations"
   ]
  },
  {
   "cell_type": "code",
   "execution_count": 56,
   "id": "642a8cc0",
   "metadata": {},
   "outputs": [
    {
     "name": "stdout",
     "output_type": "stream",
     "text": [
      "+--------------------+-------------------------------------+-----------+\n",
      "|Departure station id|Departure station name               |visit_count|\n",
      "+--------------------+-------------------------------------+-----------+\n",
      "|016                 |Liisanpuistikko                      |230        |\n",
      "|541                 |Aalto-yliopisto (M), Korkeakouluaukio|95         |\n",
      "|137                 |Arabian kauppakeskus                 |75         |\n",
      "|022                 |Rautatientori / länsi                |75         |\n",
      "|003                 |Kapteeninpuistikko                   |70         |\n",
      "|006                 |Hietalahdentori                      |70         |\n",
      "|005                 |Sepänkatu                            |65         |\n",
      "|129                 |Pernajantie                          |65         |\n",
      "|071                 |Hietaniemenkatu                      |65         |\n",
      "|001                 |Kaivopuisto                          |60         |\n",
      "+--------------------+-------------------------------------+-----------+\n",
      "only showing top 10 rows\n",
      "\n"
     ]
    }
   ],
   "source": [
    "from pyspark.sql import functions as F\n",
    "\n",
    "# Laske eniten käytetyt lähtöasemat\n",
    "most_visited_stations = BikeData.groupBy(\"Departure station id\", \"Departure station name\") \\\n",
    "    .agg(F.count(\"*\").alias(\"visit_count\")) \\\n",
    "    .orderBy(F.col(\"visit_count\").desc())\n",
    "\n",
    "# Näytä top 10\n",
    "most_visited_stations.show(10, truncate=False)\n"
   ]
  },
  {
   "cell_type": "markdown",
   "id": "20f06683",
   "metadata": {},
   "source": [
    "## Visualization "
   ]
  },
  {
   "cell_type": "code",
   "execution_count": null,
   "id": "63e3447f",
   "metadata": {},
   "outputs": [
    {
     "data": {
      "image/png": "[encoded data removed]",
      "text/plain": [
       "<Figure size 640x480 with 1 Axes>"
      ]
     },
     "metadata": {},
     "output_type": "display_data"
    }
   ],
   "source": [
    "# Bar Chart for 10 most visited departure stations \n",
    "\n",
    "top_df = most_visited_stations.limit(10).toPandas() \n",
    "\n",
    "plt.barh(top_df['Departure station name'], top_df['visit_count'])\n",
    "plt.ylabel(\"Count of Max Visits\")\n",
    "plt.title(\"Top 10 Departure Stations by Maximum Number of Visits\")\n",
    "plt.gca().invert_xaxis()  # Reverse x axis\n",
    "plt.show()\n"
   ]
  },
  {
   "cell_type": "code",
   "execution_count": null,
   "id": "d3e74f9f",
   "metadata": {},
   "outputs": [],
   "source": []
  }
 ],
 "metadata": {
  "kernelspec": {
   "display_name": "pyspark_env",
   "language": "python",
   "name": "python3"
  },
  "language_info": {
   "codemirror_mode": {
    "name": "ipython",
    "version": 3
   },
   "file_extension": ".py",
   "mimetype": "text/x-python",
   "name": "python",
   "nbconvert_exporter": "python",
   "pygments_lexer": "ipython3",
   "version": "3.11.11"
  }
 },
 "nbformat": 4,
 "nbformat_minor": 5
}
