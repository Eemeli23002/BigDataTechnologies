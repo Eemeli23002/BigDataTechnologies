{
 "cells": [
  {
   "cell_type": "markdown",
   "id": "86e64b2b",
   "metadata": {},
   "source": [
    "## Inserting Trimmed Data into MongoDB"
   ]
  },
  {
   "cell_type": "code",
   "execution_count": 25,
   "id": "183d701c",
   "metadata": {},
   "outputs": [
    {
     "name": "stdout",
     "output_type": "stream",
     "text": [
      "✅ Inserted 1000 rows of data\n"
     ]
    }
   ],
   "source": [
    "import json\n",
    "from pymongo import MongoClient\n",
    "import csv\n",
    "\n",
    "# Connect to MongoDB\n",
    "client = MongoClient(\"mongodb://localhost:27017/\")\n",
    "db = client[\"Project\"]\n",
    "\n",
    "# Drop old collections if they exist\n",
    "# db[\"business\"].drop()\n",
    "\n",
    "\n",
    "# === Trim and load only first 1000 rows of Bike data ===\n",
    "with open(\"project_file.csv\", \"r\", encoding=\"utf-8\") as f:\n",
    "    reader = csv.DictReader(f) \n",
    "    BikeData = [row for _, row in zip(range(1000), reader)]\n",
    "db[\"Project\"].insert_many(BikeData)\n",
    "print(f\"✅ Inserted {len(BikeData)} rows of data\")\n"
   ]
  },
  {
   "cell_type": "markdown",
   "id": "e665b7cc",
   "metadata": {},
   "source": [
    "## Starting Spark Session"
   ]
  },
  {
   "cell_type": "code",
   "execution_count": 38,
   "id": "3f5bad40",
   "metadata": {},
   "outputs": [],
   "source": [
    "from pyspark.sql import SparkSession\n",
    "\n",
    "spark = SparkSession.builder.appName(\"Bike Data Analysis\").getOrCreate()"
   ]
  },
  {
   "cell_type": "markdown",
   "id": "e8e0865c",
   "metadata": {},
   "source": [
    "## Loading data from MongoDB via PyMongo"
   ]
  },
  {
   "cell_type": "code",
   "execution_count": 39,
   "id": "3250c630",
   "metadata": {},
   "outputs": [],
   "source": [
    "## Read documents, exclude '_id'\n",
    "BikeData_docs = list(db[\"Project\"].find({}, {\"_id\": 0}))\n",
    "\n",
    "# Convert to Spark DataFrames\n",
    "BikeData = spark.createDataFrame(BikeData_docs)\n",
    "\n",
    "#BikeData.show(10 )"
   ]
  },
  {
   "cell_type": "code",
   "execution_count": 40,
   "id": "05472375",
   "metadata": {},
   "outputs": [
    {
     "name": "stdout",
     "output_type": "stream",
     "text": [
      "['Covered distance (m)', 'Departure station id', 'Departure station name', 'Duration (sec.)', 'Return', 'Return station id', 'Return station name', '\\ufeffDeparture']\n"
     ]
    }
   ],
   "source": [
    "print(BikeData.columns)"
   ]
  },
  {
   "cell_type": "code",
   "execution_count": 41,
   "id": "66581d63",
   "metadata": {},
   "outputs": [
    {
     "ename": "AnalysisException",
     "evalue": "[UNRESOLVED_COLUMN.WITH_SUGGESTION] A column or function parameter with name `Duration (sec`.`)` cannot be resolved. Did you mean one of the following? [`Duration (sec.)`, `Return`, `Return station id`, `Return station name`, `﻿Departure`].;\n'Project [Covered distance (m)#839, Departure station name#841, Return station name#845, 'Duration (sec.)]\n+- LogicalRDD [Covered distance (m)#839, Departure station id#840, Departure station name#841, Duration (sec.)#842, Return#843, Return station id#844, Return station name#845, ﻿Departure#846], false\n",
     "output_type": "error",
     "traceback": [
      "\u001b[31m---------------------------------------------------------------------------\u001b[39m",
      "\u001b[31mAnalysisException\u001b[39m                         Traceback (most recent call last)",
      "\u001b[36mCell\u001b[39m\u001b[36m \u001b[39m\u001b[32mIn[41]\u001b[39m\u001b[32m, line 4\u001b[39m\n\u001b[32m      1\u001b[39m \u001b[38;5;28;01mfrom\u001b[39;00m\u001b[38;5;250m \u001b[39m\u001b[34;01mpyspark\u001b[39;00m\u001b[34;01m.\u001b[39;00m\u001b[34;01msql\u001b[39;00m\u001b[34;01m.\u001b[39;00m\u001b[34;01mfunctions\u001b[39;00m\u001b[38;5;250m \u001b[39m\u001b[38;5;28;01mimport\u001b[39;00m avg\n\u001b[32m      2\u001b[39m \u001b[38;5;66;03m# Select only necessary fields\u001b[39;00m\n\u001b[32m----> \u001b[39m\u001b[32m4\u001b[39m data_selected = \u001b[43mBikeData\u001b[49m\u001b[43m.\u001b[49m\u001b[43mselect\u001b[49m\u001b[43m(\u001b[49m\n\u001b[32m      5\u001b[39m \u001b[43m    \u001b[49m\u001b[33;43m\"\u001b[39;49m\u001b[33;43mCovered distance (m)\u001b[39;49m\u001b[33;43m\"\u001b[39;49m\u001b[43m,\u001b[49m\n\u001b[32m      6\u001b[39m \u001b[43m    \u001b[49m\u001b[33;43m\"\u001b[39;49m\u001b[33;43mDeparture station name\u001b[39;49m\u001b[33;43m\"\u001b[39;49m\u001b[43m,\u001b[49m\n\u001b[32m      7\u001b[39m \u001b[43m    \u001b[49m\u001b[33;43m\"\u001b[39;49m\u001b[33;43mReturn station name\u001b[39;49m\u001b[33;43m\"\u001b[39;49m\u001b[43m,\u001b[49m\n\u001b[32m      8\u001b[39m \u001b[43m    \u001b[49m\u001b[33;43m\"\u001b[39;49m\u001b[33;43mDuration (sec.)\u001b[39;49m\u001b[33;43m\"\u001b[39;49m\n\u001b[32m      9\u001b[39m \u001b[43m)\u001b[49m\n\u001b[32m     10\u001b[39m \u001b[38;5;66;03m# Compute average\u001b[39;00m\n\u001b[32m     11\u001b[39m df_avg = data_selected.groupBy(\u001b[33m\"\u001b[39m\u001b[33mbusiness_id\u001b[39m\u001b[33m\"\u001b[39m, \u001b[33m\"\u001b[39m\u001b[33mname\u001b[39m\u001b[33m\"\u001b[39m, \u001b[33m\"\u001b[39m\u001b[33mcategories\u001b[39m\u001b[33m\"\u001b[39m) \\\n\u001b[32m     12\u001b[39m     .agg(avg(\u001b[33m\"\u001b[39m\u001b[33mreview_stars\u001b[39m\u001b[33m\"\u001b[39m).alias(\u001b[33m\"\u001b[39m\u001b[33mavg_rating\u001b[39m\u001b[33m\"\u001b[39m)) \\\n\u001b[32m     13\u001b[39m     .orderBy(\u001b[33m\"\u001b[39m\u001b[33mavg_rating\u001b[39m\u001b[33m\"\u001b[39m, ascending=\u001b[38;5;28;01mFalse\u001b[39;00m)\n",
      "\u001b[36mFile \u001b[39m\u001b[32mc:\\Users\\naish\\anaconda3\\envs\\pyspark_env\\Lib\\site-packages\\pyspark\\sql\\dataframe.py:3229\u001b[39m, in \u001b[36mDataFrame.select\u001b[39m\u001b[34m(self, *cols)\u001b[39m\n\u001b[32m   3184\u001b[39m \u001b[38;5;28;01mdef\u001b[39;00m\u001b[38;5;250m \u001b[39m\u001b[34mselect\u001b[39m(\u001b[38;5;28mself\u001b[39m, *cols: \u001b[33m\"\u001b[39m\u001b[33mColumnOrName\u001b[39m\u001b[33m\"\u001b[39m) -> \u001b[33m\"\u001b[39m\u001b[33mDataFrame\u001b[39m\u001b[33m\"\u001b[39m:  \u001b[38;5;66;03m# type: ignore[misc]\u001b[39;00m\n\u001b[32m   3185\u001b[39m \u001b[38;5;250m    \u001b[39m\u001b[33;03m\"\"\"Projects a set of expressions and returns a new :class:`DataFrame`.\u001b[39;00m\n\u001b[32m   3186\u001b[39m \n\u001b[32m   3187\u001b[39m \u001b[33;03m    .. versionadded:: 1.3.0\u001b[39;00m\n\u001b[32m   (...)\u001b[39m\u001b[32m   3227\u001b[39m \u001b[33;03m    +-----+---+\u001b[39;00m\n\u001b[32m   3228\u001b[39m \u001b[33;03m    \"\"\"\u001b[39;00m\n\u001b[32m-> \u001b[39m\u001b[32m3229\u001b[39m     jdf = \u001b[38;5;28;43mself\u001b[39;49m\u001b[43m.\u001b[49m\u001b[43m_jdf\u001b[49m\u001b[43m.\u001b[49m\u001b[43mselect\u001b[49m\u001b[43m(\u001b[49m\u001b[38;5;28;43mself\u001b[39;49m\u001b[43m.\u001b[49m\u001b[43m_jcols\u001b[49m\u001b[43m(\u001b[49m\u001b[43m*\u001b[49m\u001b[43mcols\u001b[49m\u001b[43m)\u001b[49m\u001b[43m)\u001b[49m\n\u001b[32m   3230\u001b[39m     \u001b[38;5;28;01mreturn\u001b[39;00m DataFrame(jdf, \u001b[38;5;28mself\u001b[39m.sparkSession)\n",
      "\u001b[36mFile \u001b[39m\u001b[32mc:\\Users\\naish\\anaconda3\\envs\\pyspark_env\\Lib\\site-packages\\py4j\\java_gateway.py:1322\u001b[39m, in \u001b[36mJavaMember.__call__\u001b[39m\u001b[34m(self, *args)\u001b[39m\n\u001b[32m   1316\u001b[39m command = proto.CALL_COMMAND_NAME +\\\n\u001b[32m   1317\u001b[39m     \u001b[38;5;28mself\u001b[39m.command_header +\\\n\u001b[32m   1318\u001b[39m     args_command +\\\n\u001b[32m   1319\u001b[39m     proto.END_COMMAND_PART\n\u001b[32m   1321\u001b[39m answer = \u001b[38;5;28mself\u001b[39m.gateway_client.send_command(command)\n\u001b[32m-> \u001b[39m\u001b[32m1322\u001b[39m return_value = \u001b[43mget_return_value\u001b[49m\u001b[43m(\u001b[49m\n\u001b[32m   1323\u001b[39m \u001b[43m    \u001b[49m\u001b[43manswer\u001b[49m\u001b[43m,\u001b[49m\u001b[43m \u001b[49m\u001b[38;5;28;43mself\u001b[39;49m\u001b[43m.\u001b[49m\u001b[43mgateway_client\u001b[49m\u001b[43m,\u001b[49m\u001b[43m \u001b[49m\u001b[38;5;28;43mself\u001b[39;49m\u001b[43m.\u001b[49m\u001b[43mtarget_id\u001b[49m\u001b[43m,\u001b[49m\u001b[43m \u001b[49m\u001b[38;5;28;43mself\u001b[39;49m\u001b[43m.\u001b[49m\u001b[43mname\u001b[49m\u001b[43m)\u001b[49m\n\u001b[32m   1325\u001b[39m \u001b[38;5;28;01mfor\u001b[39;00m temp_arg \u001b[38;5;129;01min\u001b[39;00m temp_args:\n\u001b[32m   1326\u001b[39m     \u001b[38;5;28;01mif\u001b[39;00m \u001b[38;5;28mhasattr\u001b[39m(temp_arg, \u001b[33m\"\u001b[39m\u001b[33m_detach\u001b[39m\u001b[33m\"\u001b[39m):\n",
      "\u001b[36mFile \u001b[39m\u001b[32mc:\\Users\\naish\\anaconda3\\envs\\pyspark_env\\Lib\\site-packages\\pyspark\\errors\\exceptions\\captured.py:185\u001b[39m, in \u001b[36mcapture_sql_exception.<locals>.deco\u001b[39m\u001b[34m(*a, **kw)\u001b[39m\n\u001b[32m    181\u001b[39m converted = convert_exception(e.java_exception)\n\u001b[32m    182\u001b[39m \u001b[38;5;28;01mif\u001b[39;00m \u001b[38;5;129;01mnot\u001b[39;00m \u001b[38;5;28misinstance\u001b[39m(converted, UnknownException):\n\u001b[32m    183\u001b[39m     \u001b[38;5;66;03m# Hide where the exception came from that shows a non-Pythonic\u001b[39;00m\n\u001b[32m    184\u001b[39m     \u001b[38;5;66;03m# JVM exception message.\u001b[39;00m\n\u001b[32m--> \u001b[39m\u001b[32m185\u001b[39m     \u001b[38;5;28;01mraise\u001b[39;00m converted \u001b[38;5;28;01mfrom\u001b[39;00m\u001b[38;5;250m \u001b[39m\u001b[38;5;28;01mNone\u001b[39;00m\n\u001b[32m    186\u001b[39m \u001b[38;5;28;01melse\u001b[39;00m:\n\u001b[32m    187\u001b[39m     \u001b[38;5;28;01mraise\u001b[39;00m\n",
      "\u001b[31mAnalysisException\u001b[39m: [UNRESOLVED_COLUMN.WITH_SUGGESTION] A column or function parameter with name `Duration (sec`.`)` cannot be resolved. Did you mean one of the following? [`Duration (sec.)`, `Return`, `Return station id`, `Return station name`, `﻿Departure`].;\n'Project [Covered distance (m)#839, Departure station name#841, Return station name#845, 'Duration (sec.)]\n+- LogicalRDD [Covered distance (m)#839, Departure station id#840, Departure station name#841, Duration (sec.)#842, Return#843, Return station id#844, Return station name#845, ﻿Departure#846], false\n"
     ]
    }
   ],
   "source": [
    "from pyspark.sql.functions import avg\n",
    "# Select only necessary fields\n",
    "\n",
    "data_selected = BikeData.select(\n",
    "    \"Covered distance (m)\",\n",
    "    \"Departure station name\",\n",
    "    \"Return station name\",\n",
    "    \"Duration (sec.)\"\n",
    ")\n",
    "# Compute average\n",
    "df_avg = data_selected.groupBy(\"business_id\", \"name\", \"categories\") \\\n",
    "    .agg(avg(\"review_stars\").alias(\"avg_rating\")) \\\n",
    "    .orderBy(\"avg_rating\", ascending=False)\n",
    "\n",
    "df_avg.show(10, truncate=False)"
   ]
  },
  {
   "cell_type": "code",
   "execution_count": 42,
   "id": "943827f9",
   "metadata": {},
   "outputs": [
    {
     "ename": "AnalysisException",
     "evalue": "[UNRESOLVED_COLUMN.WITH_SUGGESTION] A column or function parameter with name `Duration (sec`.`)` cannot be resolved. Did you mean one of the following? [`Duration (sec.)`, `Return`, `Return station id`, `Return station name`, `﻿Departure`].;\n'Project [Covered distance (m)#855, Departure station name#857, Return station name#861, 'Duration (sec.)]\n+- LogicalRDD [Covered distance (m)#855, Departure station id#856, Departure station name#857, Duration (sec.)#858, Return#859, Return station id#860, Return station name#861, ﻿Departure#862], false\n",
     "output_type": "error",
     "traceback": [
      "\u001b[31m---------------------------------------------------------------------------\u001b[39m",
      "\u001b[31mAnalysisException\u001b[39m                         Traceback (most recent call last)",
      "\u001b[36mCell\u001b[39m\u001b[36m \u001b[39m\u001b[32mIn[42]\u001b[39m\u001b[32m, line 5\u001b[39m\n\u001b[32m      3\u001b[39m data_df = spark.createDataFrame(BikeData_docs)\n\u001b[32m      4\u001b[39m \u001b[38;5;66;03m# Valitaan olennaiset sarakkeet\u001b[39;00m\n\u001b[32m----> \u001b[39m\u001b[32m5\u001b[39m data_selected = \u001b[43mdata_df\u001b[49m\u001b[43m.\u001b[49m\u001b[43mselect\u001b[49m\u001b[43m(\u001b[49m\n\u001b[32m      6\u001b[39m \u001b[43m    \u001b[49m\u001b[33;43m\"\u001b[39;49m\u001b[33;43mCovered distance (m)\u001b[39;49m\u001b[33;43m\"\u001b[39;49m\u001b[43m,\u001b[49m\n\u001b[32m      7\u001b[39m \u001b[43m    \u001b[49m\u001b[33;43m\"\u001b[39;49m\u001b[33;43mDeparture station name\u001b[39;49m\u001b[33;43m\"\u001b[39;49m\u001b[43m,\u001b[49m\n\u001b[32m      8\u001b[39m \u001b[43m    \u001b[49m\u001b[33;43m\"\u001b[39;49m\u001b[33;43mReturn station name\u001b[39;49m\u001b[33;43m\"\u001b[39;49m\u001b[43m,\u001b[49m\n\u001b[32m      9\u001b[39m \u001b[43m    \u001b[49m\u001b[33;43m\"\u001b[39;49m\u001b[33;43mDuration (sec.)\u001b[39;49m\u001b[33;43m\"\u001b[39;49m\n\u001b[32m     10\u001b[39m \u001b[43m)\u001b[49m\n\u001b[32m     12\u001b[39m \u001b[38;5;66;03m# Lasketaan keskiarvot lähtö- ja paluuaseman mukaan\u001b[39;00m\n\u001b[32m     13\u001b[39m df_avg = data_selected.groupBy(\n\u001b[32m     14\u001b[39m     \u001b[33m\"\u001b[39m\u001b[33mDeparture station name\u001b[39m\u001b[33m\"\u001b[39m,\n\u001b[32m     15\u001b[39m     \u001b[33m\"\u001b[39m\u001b[33mReturn station name\u001b[39m\u001b[33m\"\u001b[39m\n\u001b[32m   (...)\u001b[39m\u001b[32m     18\u001b[39m     avg(\u001b[33m\"\u001b[39m\u001b[33mDuration (sec.)\u001b[39m\u001b[33m\"\u001b[39m).alias(\u001b[33m\"\u001b[39m\u001b[33mavg_duration_sec\u001b[39m\u001b[33m\"\u001b[39m)\n\u001b[32m     19\u001b[39m ).orderBy(\u001b[33m\"\u001b[39m\u001b[33mavg_distance_m\u001b[39m\u001b[33m\"\u001b[39m, ascending=\u001b[38;5;28;01mFalse\u001b[39;00m)\n",
      "\u001b[36mFile \u001b[39m\u001b[32mc:\\Users\\naish\\anaconda3\\envs\\pyspark_env\\Lib\\site-packages\\pyspark\\sql\\dataframe.py:3229\u001b[39m, in \u001b[36mDataFrame.select\u001b[39m\u001b[34m(self, *cols)\u001b[39m\n\u001b[32m   3184\u001b[39m \u001b[38;5;28;01mdef\u001b[39;00m\u001b[38;5;250m \u001b[39m\u001b[34mselect\u001b[39m(\u001b[38;5;28mself\u001b[39m, *cols: \u001b[33m\"\u001b[39m\u001b[33mColumnOrName\u001b[39m\u001b[33m\"\u001b[39m) -> \u001b[33m\"\u001b[39m\u001b[33mDataFrame\u001b[39m\u001b[33m\"\u001b[39m:  \u001b[38;5;66;03m# type: ignore[misc]\u001b[39;00m\n\u001b[32m   3185\u001b[39m \u001b[38;5;250m    \u001b[39m\u001b[33;03m\"\"\"Projects a set of expressions and returns a new :class:`DataFrame`.\u001b[39;00m\n\u001b[32m   3186\u001b[39m \n\u001b[32m   3187\u001b[39m \u001b[33;03m    .. versionadded:: 1.3.0\u001b[39;00m\n\u001b[32m   (...)\u001b[39m\u001b[32m   3227\u001b[39m \u001b[33;03m    +-----+---+\u001b[39;00m\n\u001b[32m   3228\u001b[39m \u001b[33;03m    \"\"\"\u001b[39;00m\n\u001b[32m-> \u001b[39m\u001b[32m3229\u001b[39m     jdf = \u001b[38;5;28;43mself\u001b[39;49m\u001b[43m.\u001b[49m\u001b[43m_jdf\u001b[49m\u001b[43m.\u001b[49m\u001b[43mselect\u001b[49m\u001b[43m(\u001b[49m\u001b[38;5;28;43mself\u001b[39;49m\u001b[43m.\u001b[49m\u001b[43m_jcols\u001b[49m\u001b[43m(\u001b[49m\u001b[43m*\u001b[49m\u001b[43mcols\u001b[49m\u001b[43m)\u001b[49m\u001b[43m)\u001b[49m\n\u001b[32m   3230\u001b[39m     \u001b[38;5;28;01mreturn\u001b[39;00m DataFrame(jdf, \u001b[38;5;28mself\u001b[39m.sparkSession)\n",
      "\u001b[36mFile \u001b[39m\u001b[32mc:\\Users\\naish\\anaconda3\\envs\\pyspark_env\\Lib\\site-packages\\py4j\\java_gateway.py:1322\u001b[39m, in \u001b[36mJavaMember.__call__\u001b[39m\u001b[34m(self, *args)\u001b[39m\n\u001b[32m   1316\u001b[39m command = proto.CALL_COMMAND_NAME +\\\n\u001b[32m   1317\u001b[39m     \u001b[38;5;28mself\u001b[39m.command_header +\\\n\u001b[32m   1318\u001b[39m     args_command +\\\n\u001b[32m   1319\u001b[39m     proto.END_COMMAND_PART\n\u001b[32m   1321\u001b[39m answer = \u001b[38;5;28mself\u001b[39m.gateway_client.send_command(command)\n\u001b[32m-> \u001b[39m\u001b[32m1322\u001b[39m return_value = \u001b[43mget_return_value\u001b[49m\u001b[43m(\u001b[49m\n\u001b[32m   1323\u001b[39m \u001b[43m    \u001b[49m\u001b[43manswer\u001b[49m\u001b[43m,\u001b[49m\u001b[43m \u001b[49m\u001b[38;5;28;43mself\u001b[39;49m\u001b[43m.\u001b[49m\u001b[43mgateway_client\u001b[49m\u001b[43m,\u001b[49m\u001b[43m \u001b[49m\u001b[38;5;28;43mself\u001b[39;49m\u001b[43m.\u001b[49m\u001b[43mtarget_id\u001b[49m\u001b[43m,\u001b[49m\u001b[43m \u001b[49m\u001b[38;5;28;43mself\u001b[39;49m\u001b[43m.\u001b[49m\u001b[43mname\u001b[49m\u001b[43m)\u001b[49m\n\u001b[32m   1325\u001b[39m \u001b[38;5;28;01mfor\u001b[39;00m temp_arg \u001b[38;5;129;01min\u001b[39;00m temp_args:\n\u001b[32m   1326\u001b[39m     \u001b[38;5;28;01mif\u001b[39;00m \u001b[38;5;28mhasattr\u001b[39m(temp_arg, \u001b[33m\"\u001b[39m\u001b[33m_detach\u001b[39m\u001b[33m\"\u001b[39m):\n",
      "\u001b[36mFile \u001b[39m\u001b[32mc:\\Users\\naish\\anaconda3\\envs\\pyspark_env\\Lib\\site-packages\\pyspark\\errors\\exceptions\\captured.py:185\u001b[39m, in \u001b[36mcapture_sql_exception.<locals>.deco\u001b[39m\u001b[34m(*a, **kw)\u001b[39m\n\u001b[32m    181\u001b[39m converted = convert_exception(e.java_exception)\n\u001b[32m    182\u001b[39m \u001b[38;5;28;01mif\u001b[39;00m \u001b[38;5;129;01mnot\u001b[39;00m \u001b[38;5;28misinstance\u001b[39m(converted, UnknownException):\n\u001b[32m    183\u001b[39m     \u001b[38;5;66;03m# Hide where the exception came from that shows a non-Pythonic\u001b[39;00m\n\u001b[32m    184\u001b[39m     \u001b[38;5;66;03m# JVM exception message.\u001b[39;00m\n\u001b[32m--> \u001b[39m\u001b[32m185\u001b[39m     \u001b[38;5;28;01mraise\u001b[39;00m converted \u001b[38;5;28;01mfrom\u001b[39;00m\u001b[38;5;250m \u001b[39m\u001b[38;5;28;01mNone\u001b[39;00m\n\u001b[32m    186\u001b[39m \u001b[38;5;28;01melse\u001b[39;00m:\n\u001b[32m    187\u001b[39m     \u001b[38;5;28;01mraise\u001b[39;00m\n",
      "\u001b[31mAnalysisException\u001b[39m: [UNRESOLVED_COLUMN.WITH_SUGGESTION] A column or function parameter with name `Duration (sec`.`)` cannot be resolved. Did you mean one of the following? [`Duration (sec.)`, `Return`, `Return station id`, `Return station name`, `﻿Departure`].;\n'Project [Covered distance (m)#855, Departure station name#857, Return station name#861, 'Duration (sec.)]\n+- LogicalRDD [Covered distance (m)#855, Departure station id#856, Departure station name#857, Duration (sec.)#858, Return#859, Return station id#860, Return station name#861, ﻿Departure#862], false\n"
     ]
    }
   ],
   "source": [
    "from pyspark.sql.functions import avg\n",
    "\n",
    "data_df = spark.createDataFrame(BikeData_docs)\n",
    "# Valitaan olennaiset sarakkeet\n",
    "data_selected = data_df.select(\n",
    "    \"Covered distance (m)\",\n",
    "    \"Departure station name\",\n",
    "    \"Return station name\",\n",
    "    \"Duration (sec.)\"\n",
    ")\n",
    "\n",
    "# Lasketaan keskiarvot lähtö- ja paluuaseman mukaan\n",
    "df_avg = data_selected.groupBy(\n",
    "    \"Departure station name\",\n",
    "    \"Return station name\"\n",
    ").agg(\n",
    "    avg(\"Covered distance (m)\").alias(\"avg_distance_m\"),\n",
    "    avg(\"Duration (sec.)\").alias(\"avg_duration_sec\")\n",
    ").orderBy(\"avg_distance_m\", ascending=False)\n",
    "\n",
    "# Näytetään 10 pisimmän keskimatkan asemaparia\n",
    "df_avg.show(10, truncate=False)\n"
   ]
  },
  {
   "cell_type": "code",
   "execution_count": null,
   "id": "fb6e1de9",
   "metadata": {},
   "outputs": [],
   "source": [
    "from pyspark.sql import functions as F\n",
    "from pyspark.sql.window import Window\n",
    "# Returning the most visited departure stations\n",
    "data_selected = BikeData.select(\n",
    "    \"Departure station name\",\n",
    "    \"departure station id\",\n",
    "    \n",
    ")\n",
    "df_Max = data_selected.groupBy(\"departure station id\",\"Departure station name\")\\\n",
    ".agg(F.count(\"*\").alias(\"counts\")\n",
    ")\n",
    "\n",
    "window_spec = Window.partitionBy(\"departure station id\").orderBy(F.col(\"visit_count\").desc())\n",
    "\n",
    "# Add a row number column to pick the station with the highest count\n",
    "station_rank =df_Max .withColumn(\"rank\", F.row_number().over(window_spec))\n",
    "most_visited_stations = station_rank.filter(F.col(\"rank\") == 1)\n",
    "\n",
    "# Show the result\n",
    "most_visited_stations.select(\"departure station id\", \"Departure station name\", \"visit_count\").show()\n"
   ]
  },
  {
   "cell_type": "markdown",
   "id": "20f06683",
   "metadata": {},
   "source": [
    "## Visualization "
   ]
  },
  {
   "cell_type": "code",
   "execution_count": null,
   "id": "31da9faf",
   "metadata": {},
   "outputs": [],
   "source": [
    "#Most visited  visited departure stations \n",
    "import matplotlib.pyplot as plt\n",
    "import pandas as pd\n",
    "\n",
    "top_df = df_avg.limit(10).toPandas()\n",
    "plt.barh(top_df['Departure station name'], top_df['counts'])\n",
    "plt.ylabel(\"Count of Max Visits\")\n",
    "plt.title(\"Top 10 Departure Stations by Maximun number of Visits\")\n",
    "plt.gca().invert_xaxis()\n",
    "plt.show()\n"
   ]
  }
 ],
 "metadata": {
  "kernelspec": {
   "display_name": "pyspark_env",
   "language": "python",
   "name": "python3"
  },
  "language_info": {
   "codemirror_mode": {
    "name": "ipython",
    "version": 3
   },
   "file_extension": ".py",
   "mimetype": "text/x-python",
   "name": "python",
   "nbconvert_exporter": "python",
   "pygments_lexer": "ipython3",
   "version": "3.11.11"
  }
 },
 "nbformat": 4,
 "nbformat_minor": 5
}
