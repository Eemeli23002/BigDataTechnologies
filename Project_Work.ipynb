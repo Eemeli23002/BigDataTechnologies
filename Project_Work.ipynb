{
 "cells": [
  {
   "cell_type": "markdown",
   "id": "86e64b2b",
   "metadata": {},
   "source": [
    "## Inserting Trimmed Data into MongoDB"
   ]
  },
  {
   "cell_type": "code",
   "execution_count": 6,
   "id": "183d701c",
   "metadata": {},
   "outputs": [
    {
     "name": "stdout",
     "output_type": "stream",
     "text": [
      "✅ Inserted 1000 rows of data\n"
     ]
    }
   ],
   "source": [
    "import json\n",
    "from pymongo import MongoClient\n",
    "import csv\n",
    "\n",
    "# Connect to MongoDB\n",
    "client = MongoClient(\"mongodb://localhost:27017/\")\n",
    "db = client[\"Project\"]\n",
    "\n",
    "# Drop old collections if they exist\n",
    "# db[\"business\"].drop()\n",
    "\n",
    "\n",
    "# === Trim and load only first 1000 rows of Bike data ===\n",
    "with open(\"project_file.csv\", \"r\", encoding=\"utf-8\") as f:\n",
    "    reader = csv.DictReader(f) \n",
    "    BikeData = [row for _, row in zip(range(1000), reader)]\n",
    "db[\"Project\"].insert_many(BikeData)\n",
    "print(f\"✅ Inserted {len(BikeData)} rows of data\")\n"
   ]
  },
  {
   "cell_type": "markdown",
   "id": "e665b7cc",
   "metadata": {},
   "source": [
    "## Starting Spark Session"
   ]
  },
  {
   "cell_type": "code",
   "execution_count": 7,
   "id": "3f5bad40",
   "metadata": {},
   "outputs": [],
   "source": [
    "from pyspark.sql import SparkSession\n",
    "\n",
    "spark = SparkSession.builder.appName(\"Bike Data Analysis\").getOrCreate()"
   ]
  },
  {
   "cell_type": "markdown",
   "id": "e8e0865c",
   "metadata": {},
   "source": [
    "## Loading data from MongoDB via PyMongo"
   ]
  },
  {
   "cell_type": "code",
   "execution_count": 8,
   "id": "3250c630",
   "metadata": {},
   "outputs": [
    {
     "name": "stdout",
     "output_type": "stream",
     "text": [
      "+--------------------+--------------------+----------------------+---------------+-------------------+-----------------+-------------------+-------------------+\n",
      "|Covered distance (m)|Departure station id|Departure station name|Duration (sec.)|             Return|Return station id|Return station name|         ﻿Departure|\n",
      "+--------------------+--------------------+----------------------+---------------+-------------------+-----------------+-------------------+-------------------+\n",
      "|                1885|                 016|       Liisanpuistikko|            499|2021-05-01T00:08:15|              002|    Laivasillankatu|2021-04-30T23:59:54|\n",
      "|                3359|                 020|     Kaisaniemenpuisto|            984|2021-05-01T00:16:16|              112| Rautatieläisenkatu|2021-04-30T23:59:52|\n",
      "|                1633|                 004|             Viiskulma|            824|2021-05-01T00:13:40|              033|  Kauppakorkeakoulu|2021-04-30T23:59:52|\n",
      "|                6459|                 133|        Paavalinpuisto|           1418|2021-05-01T00:23:22|              241|      Agronominkatu|2021-04-30T23:59:43|\n",
      "|                3210|                 020|     Kaisaniemenpuisto|            990|2021-05-01T00:16:15|              112| Rautatieläisenkatu|2021-04-30T23:59:41|\n",
      "|                2502|                 573|     Urheilupuisto (M)|            630|2021-05-01T00:10:02|              527|          Otsolahti|2021-04-30T23:59:32|\n",
      "|                3681|                 123|            Näkinsilta|            936|2021-05-01T00:15:06|              135|    Velodrominrinne|2021-04-30T23:59:29|\n",
      "|                1819|                 161|        Eteläesplanadi|           1541|2021-05-01T00:25:07|              041|         Ympyrätalo|2021-04-30T23:59:22|\n",
      "|                3289|                 020|     Kaisaniemenpuisto|           1024|2021-05-01T00:16:26|              112| Rautatieläisenkatu|2021-04-30T23:59:17|\n",
      "|                  18|                 016|       Liisanpuistikko|            112|2021-05-01T00:00:57|              016|    Liisanpuistikko|2021-04-30T23:59:01|\n",
      "+--------------------+--------------------+----------------------+---------------+-------------------+-----------------+-------------------+-------------------+\n",
      "only showing top 10 rows\n",
      "\n"
     ]
    }
   ],
   "source": [
    "# Read documents, exclude '_id'\n",
    "BikeData_docs = list(db[\"Project\"].find({}, {\"_id\": 0}))\n",
    "\n",
    "# Convert to Spark DataFrames\n",
    "BikeData = spark.createDataFrame(BikeData_docs)\n",
    "\n",
    "BikeData.show(10)"
   ]
  },
  {
   "cell_type": "code",
   "execution_count": null,
   "id": "05472375",
   "metadata": {},
   "outputs": [],
   "source": []
  },
  {
   "cell_type": "code",
   "execution_count": null,
   "id": "66581d63",
   "metadata": {},
   "outputs": [],
   "source": [
    "from pyspark.sql.functions import avg\n",
    "# Select only necessary fields\n",
    "\n",
    "data_selected = BikeData.select(\n",
    "    \"Covered distance (m)\",\n",
    "    \"Departure station name\",\n",
    "    \"Return station name\",\n",
    "    \"Duration (sec.)\"\n",
    ")\n",
    "# Compute average\n",
    "df_avg = data_selected.groupBy(\"business_id\", \"name\", \"categories\") \\\n",
    "    .agg(avg(\"review_stars\").alias(\"avg_rating\")) \\\n",
    "    .orderBy(\"avg_rating\", ascending=False)\n",
    "\n",
    "df_avg.show(10, truncate=False)"
   ]
  },
  {
   "cell_type": "code",
   "execution_count": null,
   "id": "943827f9",
   "metadata": {},
   "outputs": [],
   "source": [
    "from pyspark.sql.functions import avg\n",
    "\n",
    "data_df = spark.createDataFrame(BikeData_docs)\n",
    "# Valitaan olennaiset sarakkeet\n",
    "data_selected = data_df.select(\n",
    "    \"Covered distance (m)\",\n",
    "    \"Departure station name\",\n",
    "    \"Return station name\",\n",
    "    \"Duration (sec.)\"\n",
    ")\n",
    "\n",
    "# Lasketaan keskiarvot lähtö- ja paluuaseman mukaan\n",
    "df_avg = data_selected.groupBy(\n",
    "    \"Departure station name\",\n",
    "    \"Return station name\"\n",
    ").agg(\n",
    "    avg(\"Covered distance (m)\").alias(\"avg_distance_m\"),\n",
    "    avg(\"Duration (sec.)\").alias(\"avg_duration_sec\")\n",
    ").orderBy(\"avg_distance_m\", ascending=False)\n",
    "\n",
    "# Näytetään 10 pisimmän keskimatkan asemaparia\n",
    "df_avg.show(10, truncate=False)\n"
   ]
  },
  {
   "cell_type": "code",
   "execution_count": null,
   "id": "fb6e1de9",
   "metadata": {},
   "outputs": [],
   "source": []
  }
 ],
 "metadata": {
  "kernelspec": {
   "display_name": "pyspark_env",
   "language": "python",
   "name": "python3"
  },
  "language_info": {
   "codemirror_mode": {
    "name": "ipython",
    "version": 3
   },
   "file_extension": ".py",
   "mimetype": "text/x-python",
   "name": "python",
   "nbconvert_exporter": "python",
   "pygments_lexer": "ipython3",
   "version": "3.11.11"
  }
 },
 "nbformat": 4,
 "nbformat_minor": 5
}
